{
  "nbformat": 4,
  "nbformat_minor": 0,
  "metadata": {
    "colab": {
      "provenance": [],
      "authorship_tag": "ABX9TyO1YPSAXs7fDdtt1NmLBL+8",
      "include_colab_link": true
    },
    "kernelspec": {
      "name": "python3",
      "display_name": "Python 3"
    },
    "language_info": {
      "name": "python"
    }
  },
  "cells": [
    {
      "cell_type": "markdown",
      "metadata": {
        "id": "view-in-github",
        "colab_type": "text"
      },
      "source": [
        "<a href=\"https://colab.research.google.com/github/MunjaSangeetha/Generative-AI/blob/main/GenAI_Assignment_3_2303A52088.ipynb\" target=\"_parent\"><img src=\"https://colab.research.google.com/assets/colab-badge.svg\" alt=\"Open In Colab\"/></a>"
      ]
    },
    {
      "cell_type": "markdown",
      "source": [
        "Assignment - 3\n",
        "M.Sangeetha\n",
        "2303A52088\n",
        "Generative AI"
      ],
      "metadata": {
        "id": "myhh03nHKuU9"
      }
    },
    {
      "cell_type": "markdown",
      "source": [
        "1."
      ],
      "metadata": {
        "id": "eATHWoy1LpLF"
      }
    },
    {
      "cell_type": "code",
      "execution_count": 2,
      "metadata": {
        "colab": {
          "base_uri": "https://localhost:8080/"
        },
        "id": "m5S5r6f8Kcx4",
        "outputId": "2237014f-c9a2-4d0a-be3a-cb632e4e6128"
      },
      "outputs": [
        {
          "output_type": "stream",
          "name": "stdout",
          "text": [
            "The value of x that minimizes f(x) is approximately: -190.6\n"
          ]
        }
      ],
      "source": [
        "# Define the function f(x)\n",
        "def f(x):\n",
        "  return 5 * x**4 + 3 * x**2 + 10\n",
        "\n",
        "# Derivative of the function f'(x)\n",
        "def df(x):\n",
        "  return 20 * x**3 + 6 * x\n",
        "\n",
        "# Gradient Descent Algorithm\n",
        "def gradient_descent(learning_rate=0.01, epochs=1000, initial_x=10):\n",
        "  x = initial_x  # Initial guess for x\n",
        "  for _ in range(epochs):\n",
        "# Compute the gradient (derivative) at the current value of x\n",
        "     gradient = df(x)\n",
        "# Update the value of x in the direction of the negative gradient\n",
        "     x = x - learning_rate * gradient\n",
        "     return x\n",
        "\n",
        "# Run the gradient descent algorithm\n",
        "min_x = gradient_descent(learning_rate=0.01, epochs=1000, initial_x=10)\n",
        "\n",
        "# Output the result\n",
        "print(f\"The value of x that minimizes f(x) is approximately: {min_x}\")\n"
      ]
    },
    {
      "cell_type": "markdown",
      "source": [
        "2."
      ],
      "metadata": {
        "id": "hCOwcn9WM8RF"
      }
    },
    {
      "cell_type": "code",
      "source": [
        "import math\n",
        "\n",
        "# Define the function g(x, y)\n",
        "def g(x, y):\n",
        "    return 3 * x**2 + 5 * math.exp(-y) + 10\n",
        "\n",
        "# Partial derivative with respect to x (dg/dx)\n",
        "def dg_dx(x, y):\n",
        "    return 6 * x\n",
        "\n",
        "# Partial derivative with respect to y (dg/dy)\n",
        "def dg_dy(x, y):\n",
        "    return -5 * math.exp(-y)\n",
        "\n",
        "# Gradient Descent Algorithm\n",
        "def gradient_descent(learning_rate=0.01, epochs=1000, initial_x=1, initial_y=1):\n",
        "    x = initial_x  # Initial guess for x\n",
        "    y = initial_y  # Initial guess for y\n",
        "\n",
        "    for _ in range(epochs):\n",
        "        # Compute the gradients at the current values of x and y\n",
        "        gradient_x = dg_dx(x, y)\n",
        "        gradient_y = dg_dy(x, y)\n",
        "\n",
        "        # Update the values of x and y in the direction of the negative gradient\n",
        "        x = x - learning_rate * gradient_x\n",
        "        y = y - learning_rate * gradient_y\n",
        "\n",
        "    return x, y\n",
        "\n",
        "# Run the gradient descent algorithm\n",
        "min_x, min_y = gradient_descent(learning_rate=0.01, epochs=1000, initial_x=1, initial_y=1)\n",
        "\n",
        "# Output the result\n",
        "print(f\"The values of x and y that minimize g(x, y) are approximately: x = {min_x}, y = {min_y}\")\n"
      ],
      "metadata": {
        "colab": {
          "base_uri": "https://localhost:8080/"
        },
        "id": "myCdi92pLs49",
        "outputId": "749b798f-526f-4ddb-86d9-3a1e20ce2b72"
      },
      "execution_count": 3,
      "outputs": [
        {
          "output_type": "stream",
          "name": "stdout",
          "text": [
            "The values of x and y that minimize g(x, y) are approximately: x = 1.3423123924933694e-27, y = 3.9663707936306642\n"
          ]
        }
      ]
    },
    {
      "cell_type": "markdown",
      "source": [
        "3."
      ],
      "metadata": {
        "id": "V1NkqZf4M6YE"
      }
    },
    {
      "cell_type": "code",
      "source": [
        "# Define the sigmoid function z(x)\n",
        "def sigmoid(x):\n",
        "    return 1 / (1 + (2.718281828459045**(-x)))  # Approximation of e^(-x)\n",
        "\n",
        "# Derivative of the sigmoid function z'(x)\n",
        "def sigmoid_derivative(x):\n",
        "    sig = sigmoid(x)  # Calculate sigmoid of x\n",
        "    return sig * (1 - sig)  # Derivative of the sigmoid function\n",
        "\n",
        "# Gradient Descent Algorithm\n",
        "def gradient_descent(learning_rate=0.01, epochs=1000, initial_x=0):\n",
        "    x = initial_x  # Initial guess for x\n",
        "\n",
        "    for _ in range(epochs):\n",
        "        # Compute the gradient (derivative) at the current value of x\n",
        "        gradient = sigmoid_derivative(x)\n",
        "\n",
        "        # Update the value of x in the direction of the negative gradient\n",
        "        x = x - learning_rate * gradient\n",
        "\n",
        "    return x\n",
        "\n",
        "# Run the gradient descent algorithm\n",
        "min_x = gradient_descent(learning_rate=0.01, epochs=1000, initial_x=0)\n",
        "\n",
        "# Output the result\n",
        "print(f\"The value of x that minimizes z(x) is approximately: {min_x}\")\n"
      ],
      "metadata": {
        "colab": {
          "base_uri": "https://localhost:8080/"
        },
        "id": "PRJK8YU1M5Ol",
        "outputId": "d860e472-6a35-4fbc-f7b6-55886eed0a04"
      },
      "execution_count": 4,
      "outputs": [
        {
          "output_type": "stream",
          "name": "stdout",
          "text": [
            "The value of x that minimizes z(x) is approximately: -1.8618354629020137\n"
          ]
        }
      ]
    },
    {
      "cell_type": "markdown",
      "source": [
        "4."
      ],
      "metadata": {
        "id": "zAxfQ4f1NSW1"
      }
    },
    {
      "cell_type": "code",
      "source": [
        "# Define the inputs\n",
        "inputs = [2]  # Single input value\n",
        "expected_output = 0.5  # Target output\n",
        "\n",
        "# Initialize variables to find the optimal M and C\n",
        "best_m = 0\n",
        "best_c = 0\n",
        "min_error = float('inf')\n",
        "\n",
        "# Grid search for M and C\n",
        "for m in [i * 0.01 for i in range(-100, 101)]:\n",
        "    # M values from -1 to 1 in steps of 0.01\n",
        "    for c in [j * 0.01 for j in range(-100, 101)]:\n",
        "        # C values from -1 to 1 in steps of 0.01\n",
        "\n",
        "        # Calculate predicted output\n",
        "        predicted_output = m * inputs[0] + c\n",
        "\n",
        "        # Compute square error\n",
        "        square_error = (expected_output - predicted_output) ** 2\n",
        "\n",
        "        # Update if this combination gives a lower error\n",
        "        if square_error < min_error:\n",
        "            min_error = square_error\n",
        "            best_m = m\n",
        "            best_c = c\n",
        "\n",
        "# Print the optimal values and minimum error\n",
        "print(f\"Optimal M: {best_m}\")\n",
        "print(f\"Optimal C: {best_c}\")\n",
        "print(f\"Minimum Square Error: {min_error}\")\n",
        "\n",
        "# Verify the optimal values\n",
        "print(f\"Expected Output: {expected_output}\")\n",
        "print(f\"Predicted Output using Optimal M and C: {best_m * inputs[0] + best_c}\")\n",
        "\n"
      ],
      "metadata": {
        "colab": {
          "base_uri": "https://localhost:8080/"
        },
        "id": "fR8IatjePT60",
        "outputId": "55ebe6c9-f9ed-4748-8855-484a7c249d09"
      },
      "execution_count": 11,
      "outputs": [
        {
          "output_type": "stream",
          "name": "stdout",
          "text": [
            "Optimal M: -0.25\n",
            "Optimal C: 1.0\n",
            "Minimum Square Error: 0.0\n",
            "Expected Output: 0.5\n",
            "Predicted Output using Optimal M and C: 0.5\n"
          ]
        }
      ]
    }
  ]
}