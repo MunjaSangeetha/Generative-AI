{
  "nbformat": 4,
  "nbformat_minor": 0,
  "metadata": {
    "colab": {
      "provenance": [],
      "authorship_tag": "ABX9TyNOE35UT7ILfMIlaXhm2qVW",
      "include_colab_link": true
    },
    "kernelspec": {
      "name": "python3",
      "display_name": "Python 3"
    },
    "language_info": {
      "name": "python"
    }
  },
  "cells": [
    {
      "cell_type": "markdown",
      "metadata": {
        "id": "view-in-github",
        "colab_type": "text"
      },
      "source": [
        "<a href=\"https://colab.research.google.com/github/MunjaSangeetha/Generative-AI/blob/main/2303A52088_Week_1_Assignment_1.ipynb\" target=\"_parent\"><img src=\"https://colab.research.google.com/assets/colab-badge.svg\" alt=\"Open In Colab\"/></a>"
      ]
    },
    {
      "cell_type": "markdown",
      "source": [
        "Generative AI\n",
        "2303A52088\n",
        "M.Sangeetha\n"
      ],
      "metadata": {
        "id": "eHAhzPYQITMl"
      }
    },
    {
      "cell_type": "markdown",
      "source": [
        "Assignment - 1"
      ],
      "metadata": {
        "id": "gzkjH_TuI5OD"
      }
    },
    {
      "cell_type": "code",
      "source": [
        "#1"
      ],
      "metadata": {
        "id": "tqbxRZqCJsT7"
      },
      "execution_count": null,
      "outputs": []
    },
    {
      "cell_type": "code",
      "execution_count": 1,
      "metadata": {
        "colab": {
          "base_uri": "https://localhost:8080/"
        },
        "id": "PLKZvt-HF7Ci",
        "outputId": "ccac10f1-ed5d-4131-e988-1a5bcc0e7ebe"
      },
      "outputs": [
        {
          "output_type": "stream",
          "name": "stdout",
          "text": [
            "Error Metrics (From Scratch):\n",
            "Mean Absolute Error (MAE): 0.4600000000000016\n",
            "Mean Squared Error (MSE): 0.24600000000000147\n",
            "R-squared (R²): 0.99877\n",
            "\n",
            "Error Metrics (Using Libraries):\n",
            "Mean Absolute Error (MAE): 0.4600000000000016\n",
            "Mean Squared Error (MSE): 0.24600000000000147\n",
            "R-squared (R²): 0.99877\n"
          ]
        }
      ],
      "source": [
        "# Actual and Predicted Values\n",
        "Y_actual = [20, 30, 40, 50, 60]\n",
        "Y_pred = [20.5, 30.3, 40.2, 50.6, 60.7]\n",
        "\n",
        "# Functions to calculate error metrics from scratch\n",
        "def mean_absolute_error(y_actual, y_pred):\n",
        "    return sum(abs(a - p) for a, p in zip(y_actual, y_pred)) / len(y_actual)\n",
        "\n",
        "def mean_squared_error(y_actual, y_pred):\n",
        "    return sum((a - p) ** 2 for a, p in zip(y_actual, y_pred)) / len(y_actual)\n",
        "\n",
        "def r_squared(y_actual, y_pred):\n",
        "    mean_actual = sum(y_actual) / len(y_actual)\n",
        "    ss_total = sum((a - mean_actual) ** 2 for a in y_actual)\n",
        "    ss_residual = sum((a - p) ** 2 for a, p in zip(y_actual, y_pred))\n",
        "    return 1 - (ss_residual / ss_total)\n",
        "\n",
        "# Calculate metrics from scratch\n",
        "mae_scratch = mean_absolute_error(Y_actual, Y_pred)\n",
        "mse_scratch = mean_squared_error(Y_actual, Y_pred)\n",
        "r2_scratch = r_squared(Y_actual, Y_pred)\n",
        "\n",
        "print(\"Error Metrics (From Scratch):\")\n",
        "print(f\"Mean Absolute Error (MAE): {mae_scratch}\")\n",
        "print(f\"Mean Squared Error (MSE): {mse_scratch}\")\n",
        "print(f\"R-squared (R²): {r2_scratch}\")\n",
        "\n",
        "# Calculate metrics using libraries\n",
        "from sklearn.metrics import mean_absolute_error as mae_lib, mean_squared_error as mse_lib, r2_score\n",
        "\n",
        "mae_library = mae_lib(Y_actual, Y_pred)\n",
        "mse_library = mse_lib(Y_actual, Y_pred)\n",
        "r2_library = r2_score(Y_actual, Y_pred)\n",
        "\n",
        "print(\"\\nError Metrics (Using Libraries):\")\n",
        "print(f\"Mean Absolute Error (MAE): {mae_library}\")\n",
        "print(f\"Mean Squared Error (MSE): {mse_library}\")\n",
        "print(f\"R-squared (R²): {r2_library}\")"
      ]
    },
    {
      "cell_type": "code",
      "source": [
        "#2"
      ],
      "metadata": {
        "id": "bDGh0hPbJpt7"
      },
      "execution_count": null,
      "outputs": []
    },
    {
      "cell_type": "code",
      "source": [
        "import numpy as np\n",
        "from sklearn.metrics import accuracy_score, precision_score, recall_score, f1_score\n",
        "\n",
        "# Actual and Predicted Values from Table 2\n",
        "Y_actual = [0, 0, 1, 1, 2, 0, 0, 0, 1, 0, 2, 0, 0, 1, 1, 2, 2, 1, 0, 2, 1, 0, 2, 2, 0, 2, 1, 2, 2, 2]\n",
        "Y_pred = [0, 0, 1, 0, 2, 0, 0, 2, 1, 0, 2, 2, 0, 2, 1, 0, 2, 2, 0, 2, 1, 2, 2, 2, 0, 2, 1, 2, 2, 2]\n",
        "\n",
        "# Metrics from scratch\n",
        "def accuracy(y_actual, y_pred):\n",
        "    correct = sum(a == p for a, p in zip(y_actual, y_pred))\n",
        "    return correct / len(y_actual)\n",
        "\n",
        "def precision(y_actual, y_pred, label):\n",
        "    tp = sum((a == label and p == label) for a, p in zip(y_actual, y_pred))\n",
        "    fp = sum((a != label and p == label) for a, p in zip(y_actual, y_pred))\n",
        "    return tp / (tp + fp) if (tp + fp) > 0 else 0\n",
        "\n",
        "def recall(y_actual, y_pred, label):\n",
        "    tp = sum((a == label and p == label) for a, p in zip(y_actual, y_pred))\n",
        "    fn = sum((a == label and p != label) for a, p in zip(y_actual, y_pred))\n",
        "    return tp / (tp + fn) if (tp + fn) > 0 else 0\n",
        "\n",
        "def f1_score_manual(y_actual, y_pred, label):\n",
        "    prec = precision(y_actual, y_pred, label)\n",
        "    rec = recall(y_actual, y_pred, label)\n",
        "    return 2 * (prec * rec) / (prec + rec) if (prec + rec) > 0 else 0\n",
        "\n",
        "# Overall accuracy\n",
        "acc = accuracy(Y_actual, Y_pred)\n",
        "\n",
        "# Class-wise precision, recall, and F1-score\n",
        "labels = np.unique(Y_actual)\n",
        "precisions = {label: precision(Y_actual, Y_pred, label) for label in labels}\n",
        "recalls = {label: recall(Y_actual, Y_pred, label) for label in labels}\n",
        "f1_scores = {label: f1_score_manual(Y_actual, Y_pred, label) for label in labels}\n",
        "\n",
        "print(\"Metrics from Scratch:\")\n",
        "print(f\"Accuracy: {acc}\")\n",
        "for label in labels:\n",
        "    print(f\"Class {label} - Precision: {precisions[label]}, Recall: {recalls[label]}, F1-Score: {f1_scores[label]}\")\n",
        "\n",
        "# Metrics using sklearn\n",
        "acc_lib = accuracy_score(Y_actual, Y_pred)\n",
        "prec_lib = precision_score(Y_actual, Y_pred, average=None)\n",
        "rec_lib = recall_score(Y_actual, Y_pred, average=None)\n",
        "f1_lib = f1_score(Y_actual, Y_pred, average=None)\n",
        "\n",
        "print(\"\\nMetrics using Libraries:\")\n",
        "print(f\"Accuracy: {acc_lib}\")\n",
        "for i, label in enumerate(labels):\n",
        "    print(f\"Class {label} - Precision: {prec_lib[i]}, Recall: {rec_lib[i]}, F1-Score: {f1_lib[i]}\")"
      ],
      "metadata": {
        "colab": {
          "base_uri": "https://localhost:8080/"
        },
        "id": "VeMjDBEWJnzc",
        "outputId": "592df944-0648-4a5d-8ae0-582e82ab2444"
      },
      "execution_count": 2,
      "outputs": [
        {
          "output_type": "stream",
          "name": "stdout",
          "text": [
            "Metrics from Scratch:\n",
            "Accuracy: 0.7666666666666667\n",
            "Class 0 - Precision: 0.8, Recall: 0.7272727272727273, F1-Score: 0.761904761904762\n",
            "Class 1 - Precision: 1.0, Recall: 0.625, F1-Score: 0.7692307692307693\n",
            "Class 2 - Precision: 0.6666666666666666, Recall: 0.9090909090909091, F1-Score: 0.7692307692307692\n",
            "\n",
            "Metrics using Libraries:\n",
            "Accuracy: 0.7666666666666667\n",
            "Class 0 - Precision: 0.8, Recall: 0.7272727272727273, F1-Score: 0.7619047619047619\n",
            "Class 1 - Precision: 1.0, Recall: 0.625, F1-Score: 0.7692307692307693\n",
            "Class 2 - Precision: 0.6666666666666666, Recall: 0.9090909090909091, F1-Score: 0.7692307692307693\n"
          ]
        }
      ]
    }
  ]
}